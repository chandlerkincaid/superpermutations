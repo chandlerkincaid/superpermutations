{
 "cells": [
  {
   "cell_type": "markdown",
   "metadata": {
    "collapsed": true
   },
   "source": [
    "# Superpermutaions"
   ]
  },
  {
   "cell_type": "markdown",
   "metadata": {},
   "source": [
    "Ever since I watched [this video](https://www.youtube.com/watch?v=OZzIvl1tbPo) I've been fascinated with [superpermutations](https://en.wikipedia.org/wiki/Superpermutation). Put simply, superpermutations are numbers which contains every permutation of a list of number from 1 to N. This can be accomplished trivially by just concatenating every permutation in a list, but the interesting question is what is the shortest possible superpermutation for a given number N? For me they are a particualarly exciting problem to think about because a lot of discussion about them is relatively recent and breakthroughs are being made mostly by amatuer mathematicians. It's a complicated problem but one that is very accessible to dive into. "
   ]
  },
  {
   "cell_type": "code",
   "execution_count": 2,
   "metadata": {
    "collapsed": true
   },
   "outputs": [],
   "source": [
    "import termcolor as tc\n",
    "\n",
    "colorCode = {\n",
    "    '1': 'yellow',\n",
    "    '2': 'red',\n",
    "    '3': 'blue',\n",
    "    '4': 'green',\n",
    "    '5': 'magenta',\n",
    "    '6': 'cyan'\n",
    "}\n",
    "\n",
    "def intList_to_string(intList):\n",
    "    return ''.join([str(x) for x in intList])\n",
    "    \n",
    "class SuperPermutation():\n",
    "    \n",
    "    def __init__(self, n, text, coding):\n",
    "        self.n = n\n",
    "        self.coding = coding\n",
    "        self.text = text\n",
    "        self.k = len(text)\n",
    "    \n",
    "    def __str__(self):\n",
    "        return ('SP: N:' + str(self.n) + ' K:' + str(self.k) + '\\n' \n",
    "        + ''.join([tc.colored(char, self.coding[char], 'on_grey') for char in self.text]))        "
   ]
  },
  {
   "cell_type": "markdown",
   "metadata": {},
   "source": [
    "In order to better visualize what a superpermutation is I've written a little class that will display a given N, it's superpermution length K, and color code the sequence. We are also going to be printing a lot of list of integers so I've written a shorthand function to do that."
   ]
  },
  {
   "cell_type": "code",
   "execution_count": 3,
   "metadata": {
    "collapsed": true
   },
   "outputs": [],
   "source": [
    "sp_one = SuperPermutation(1, '1', colorCode)\n",
    "sp_two = SuperPermutation(2, '121', colorCode)\n",
    "sp_three = SuperPermutation(3, '123121321', colorCode)\n",
    "sp_four = SuperPermutation(4, '123412314231243121342132413214321', colorCode)"
   ]
  },
  {
   "cell_type": "code",
   "execution_count": 4,
   "metadata": {},
   "outputs": [
    {
     "name": "stdout",
     "output_type": "stream",
     "text": [
      "SP: N:1 K:1\n",
      "\u001b[40m\u001b[33m1\u001b[0m\n",
      "SP: N:2 K:3\n",
      "\u001b[40m\u001b[33m1\u001b[0m\u001b[40m\u001b[31m2\u001b[0m\u001b[40m\u001b[33m1\u001b[0m\n",
      "SP: N:3 K:9\n",
      "\u001b[40m\u001b[33m1\u001b[0m\u001b[40m\u001b[31m2\u001b[0m\u001b[40m\u001b[34m3\u001b[0m\u001b[40m\u001b[33m1\u001b[0m\u001b[40m\u001b[31m2\u001b[0m\u001b[40m\u001b[33m1\u001b[0m\u001b[40m\u001b[34m3\u001b[0m\u001b[40m\u001b[31m2\u001b[0m\u001b[40m\u001b[33m1\u001b[0m\n",
      "SP: N:4 K:33\n",
      "\u001b[40m\u001b[33m1\u001b[0m\u001b[40m\u001b[31m2\u001b[0m\u001b[40m\u001b[34m3\u001b[0m\u001b[40m\u001b[32m4\u001b[0m\u001b[40m\u001b[33m1\u001b[0m\u001b[40m\u001b[31m2\u001b[0m\u001b[40m\u001b[34m3\u001b[0m\u001b[40m\u001b[33m1\u001b[0m\u001b[40m\u001b[32m4\u001b[0m\u001b[40m\u001b[31m2\u001b[0m\u001b[40m\u001b[34m3\u001b[0m\u001b[40m\u001b[33m1\u001b[0m\u001b[40m\u001b[31m2\u001b[0m\u001b[40m\u001b[32m4\u001b[0m\u001b[40m\u001b[34m3\u001b[0m\u001b[40m\u001b[33m1\u001b[0m\u001b[40m\u001b[31m2\u001b[0m\u001b[40m\u001b[33m1\u001b[0m\u001b[40m\u001b[34m3\u001b[0m\u001b[40m\u001b[32m4\u001b[0m\u001b[40m\u001b[31m2\u001b[0m\u001b[40m\u001b[33m1\u001b[0m\u001b[40m\u001b[34m3\u001b[0m\u001b[40m\u001b[31m2\u001b[0m\u001b[40m\u001b[32m4\u001b[0m\u001b[40m\u001b[33m1\u001b[0m\u001b[40m\u001b[34m3\u001b[0m\u001b[40m\u001b[31m2\u001b[0m\u001b[40m\u001b[33m1\u001b[0m\u001b[40m\u001b[32m4\u001b[0m\u001b[40m\u001b[34m3\u001b[0m\u001b[40m\u001b[31m2\u001b[0m\u001b[40m\u001b[33m1\u001b[0m\n"
     ]
    }
   ],
   "source": [
    "print(sp_one)\n",
    "print(sp_two)\n",
    "print(sp_three)\n",
    "print(sp_four)"
   ]
  },
  {
   "cell_type": "markdown",
   "metadata": {},
   "source": [
    "From this we can notice two things, K is growing exponentially with N, and that these superpermutations are palindromes! At least for now...\n",
    "Rather than manually entering our superpermutations it would be nice to have an algorithm to generate them."
   ]
  },
  {
   "cell_type": "code",
   "execution_count": 5,
   "metadata": {
    "collapsed": true
   },
   "outputs": [],
   "source": [
    "def recursive_solver(input_n):\n",
    "    \n",
    "    def is_permutation(sequence):\n",
    "        seen = {}\n",
    "        for element in sequence:\n",
    "            if element in seen:\n",
    "                return False\n",
    "            seen[element] = 1\n",
    "        return True\n",
    "        \n",
    "    def combine_overlap(a, b):\n",
    "        max_overlap = int((len(b) - 1) / 2)\n",
    "        for idx in range(max_overlap, 0, -1):\n",
    "            if a[-idx:] == b[:idx]:\n",
    "                return a + b[idx:]\n",
    "        \n",
    "    def recur(n):\n",
    "        if n == 2:\n",
    "            return [1, 2, 1]\n",
    "        else:\n",
    "            sub_sp = recur(n - 1)\n",
    "            stage_one_list = []\n",
    "            for idx in range(0, len(sub_sp) - 1):\n",
    "                sub_sub_sp = sub_sp[idx: idx + n - 1]\n",
    "                if is_permutation(sub_sub_sp) and len(sub_sub_sp) == n -1:\n",
    "                    stage_one_list.append(sub_sub_sp)\n",
    "            stage_two_list = []\n",
    "            for sub in stage_one_list:\n",
    "                stage_two_list.append(sub + [n] + sub)\n",
    "            super_permutation = stage_two_list[0]\n",
    "            for idx in range(1, len(stage_two_list)):\n",
    "                super_permutation = combine_overlap(super_permutation, stage_two_list[idx])\n",
    "            return super_permutation\n",
    "        \n",
    "    return recur(input_n)"
   ]
  },
  {
   "cell_type": "markdown",
   "metadata": {},
   "source": [
    "The above function is a recursive method to generate superpermutations. It works as follows:\n",
    "\n",
    "[\"First, the superpermutation of order n-1 is split into its individual permutations in the order of how they appeared in the superpermutation. Each of those permutation are then placed next to a copy of themselves with an nth symbol added in between the two copies. Finally, each resulting structure is placed next to each other and all adjacent identical symbols are merged.\"](https://en.wikipedia.org/wiki/Superpermutation#Finding_superpermutations)\n",
    "\n",
    "There is definitely a lot I could do to optimize the way I wrote this function, particularly in terms of memory, but it is good enough for our purposes. This function is only known to produce the smallest superpermutation for 1 ≤ n ≤ 5, after that the pattern breaks and smaller superpermutations can be found through other means."
   ]
  },
  {
   "cell_type": "code",
   "execution_count": 6,
   "metadata": {},
   "outputs": [
    {
     "name": "stdout",
     "output_type": "stream",
     "text": [
      "SP: N:6 K:873\n",
      "\u001b[40m\u001b[33m1\u001b[0m\u001b[40m\u001b[31m2\u001b[0m\u001b[40m\u001b[34m3\u001b[0m\u001b[40m\u001b[32m4\u001b[0m\u001b[40m\u001b[35m5\u001b[0m\u001b[40m\u001b[36m6\u001b[0m\u001b[40m\u001b[33m1\u001b[0m\u001b[40m\u001b[31m2\u001b[0m\u001b[40m\u001b[34m3\u001b[0m\u001b[40m\u001b[32m4\u001b[0m\u001b[40m\u001b[35m5\u001b[0m\u001b[40m\u001b[33m1\u001b[0m\u001b[40m\u001b[36m6\u001b[0m\u001b[40m\u001b[31m2\u001b[0m\u001b[40m\u001b[34m3\u001b[0m\u001b[40m\u001b[32m4\u001b[0m\u001b[40m\u001b[35m5\u001b[0m\u001b[40m\u001b[33m1\u001b[0m\u001b[40m\u001b[31m2\u001b[0m\u001b[40m\u001b[36m6\u001b[0m\u001b[40m\u001b[34m3\u001b[0m\u001b[40m\u001b[32m4\u001b[0m\u001b[40m\u001b[35m5\u001b[0m\u001b[40m\u001b[33m1\u001b[0m\u001b[40m\u001b[31m2\u001b[0m\u001b[40m\u001b[34m3\u001b[0m\u001b[40m\u001b[36m6\u001b[0m\u001b[40m\u001b[32m4\u001b[0m\u001b[40m\u001b[35m5\u001b[0m\u001b[40m\u001b[33m1\u001b[0m\u001b[40m\u001b[31m2\u001b[0m\u001b[40m\u001b[34m3\u001b[0m\u001b[40m\u001b[32m4\u001b[0m\u001b[40m\u001b[36m6\u001b[0m\u001b[40m\u001b[35m5\u001b[0m\u001b[40m\u001b[33m1\u001b[0m\u001b[40m\u001b[31m2\u001b[0m\u001b[40m\u001b[34m3\u001b[0m\u001b[40m\u001b[32m4\u001b[0m\u001b[40m\u001b[33m1\u001b[0m\u001b[40m\u001b[35m5\u001b[0m\u001b[40m\u001b[36m6\u001b[0m\u001b[40m\u001b[31m2\u001b[0m\u001b[40m\u001b[34m3\u001b[0m\u001b[40m\u001b[32m4\u001b[0m\u001b[40m\u001b[33m1\u001b[0m\u001b[40m\u001b[35m5\u001b[0m\u001b[40m\u001b[31m2\u001b[0m\u001b[40m\u001b[36m6\u001b[0m\u001b[40m\u001b[34m3\u001b[0m\u001b[40m\u001b[32m4\u001b[0m\u001b[40m\u001b[33m1\u001b[0m\u001b[40m\u001b[35m5\u001b[0m\u001b[40m\u001b[31m2\u001b[0m\u001b[40m\u001b[34m3\u001b[0m\u001b[40m\u001b[36m6\u001b[0m\u001b[40m\u001b[32m4\u001b[0m\u001b[40m\u001b[33m1\u001b[0m\u001b[40m\u001b[35m5\u001b[0m\u001b[40m\u001b[31m2\u001b[0m\u001b[40m\u001b[34m3\u001b[0m\u001b[40m\u001b[32m4\u001b[0m\u001b[40m\u001b[36m6\u001b[0m\u001b[40m\u001b[33m1\u001b[0m\u001b[40m\u001b[35m5\u001b[0m\u001b[40m\u001b[31m2\u001b[0m\u001b[40m\u001b[34m3\u001b[0m\u001b[40m\u001b[32m4\u001b[0m\u001b[40m\u001b[33m1\u001b[0m\u001b[40m\u001b[36m6\u001b[0m\u001b[40m\u001b[35m5\u001b[0m\u001b[40m\u001b[31m2\u001b[0m\u001b[40m\u001b[34m3\u001b[0m\u001b[40m\u001b[32m4\u001b[0m\u001b[40m\u001b[33m1\u001b[0m\u001b[40m\u001b[31m2\u001b[0m\u001b[40m\u001b[35m5\u001b[0m\u001b[40m\u001b[36m6\u001b[0m\u001b[40m\u001b[34m3\u001b[0m\u001b[40m\u001b[32m4\u001b[0m\u001b[40m\u001b[33m1\u001b[0m\u001b[40m\u001b[31m2\u001b[0m\u001b[40m\u001b[35m5\u001b[0m\u001b[40m\u001b[34m3\u001b[0m\u001b[40m\u001b[36m6\u001b[0m\u001b[40m\u001b[32m4\u001b[0m\u001b[40m\u001b[33m1\u001b[0m\u001b[40m\u001b[31m2\u001b[0m\u001b[40m\u001b[35m5\u001b[0m\u001b[40m\u001b[34m3\u001b[0m\u001b[40m\u001b[32m4\u001b[0m\u001b[40m\u001b[36m6\u001b[0m\u001b[40m\u001b[33m1\u001b[0m\u001b[40m\u001b[31m2\u001b[0m\u001b[40m\u001b[35m5\u001b[0m\u001b[40m\u001b[34m3\u001b[0m\u001b[40m\u001b[32m4\u001b[0m\u001b[40m\u001b[33m1\u001b[0m\u001b[40m\u001b[36m6\u001b[0m\u001b[40m\u001b[31m2\u001b[0m\u001b[40m\u001b[35m5\u001b[0m\u001b[40m\u001b[34m3\u001b[0m\u001b[40m\u001b[32m4\u001b[0m\u001b[40m\u001b[33m1\u001b[0m\u001b[40m\u001b[31m2\u001b[0m\u001b[40m\u001b[36m6\u001b[0m\u001b[40m\u001b[35m5\u001b[0m\u001b[40m\u001b[34m3\u001b[0m\u001b[40m\u001b[32m4\u001b[0m\u001b[40m\u001b[33m1\u001b[0m\u001b[40m\u001b[31m2\u001b[0m\u001b[40m\u001b[34m3\u001b[0m\u001b[40m\u001b[35m5\u001b[0m\u001b[40m\u001b[36m6\u001b[0m\u001b[40m\u001b[32m4\u001b[0m\u001b[40m\u001b[33m1\u001b[0m\u001b[40m\u001b[31m2\u001b[0m\u001b[40m\u001b[34m3\u001b[0m\u001b[40m\u001b[35m5\u001b[0m\u001b[40m\u001b[32m4\u001b[0m\u001b[40m\u001b[36m6\u001b[0m\u001b[40m\u001b[33m1\u001b[0m\u001b[40m\u001b[31m2\u001b[0m\u001b[40m\u001b[34m3\u001b[0m\u001b[40m\u001b[35m5\u001b[0m\u001b[40m\u001b[32m4\u001b[0m\u001b[40m\u001b[33m1\u001b[0m\u001b[40m\u001b[36m6\u001b[0m\u001b[40m\u001b[31m2\u001b[0m\u001b[40m\u001b[34m3\u001b[0m\u001b[40m\u001b[35m5\u001b[0m\u001b[40m\u001b[32m4\u001b[0m\u001b[40m\u001b[33m1\u001b[0m\u001b[40m\u001b[31m2\u001b[0m\u001b[40m\u001b[36m6\u001b[0m\u001b[40m\u001b[34m3\u001b[0m\u001b[40m\u001b[35m5\u001b[0m\u001b[40m\u001b[32m4\u001b[0m\u001b[40m\u001b[33m1\u001b[0m\u001b[40m\u001b[31m2\u001b[0m\u001b[40m\u001b[34m3\u001b[0m\u001b[40m\u001b[36m6\u001b[0m\u001b[40m\u001b[35m5\u001b[0m\u001b[40m\u001b[32m4\u001b[0m\u001b[40m\u001b[33m1\u001b[0m\u001b[40m\u001b[31m2\u001b[0m\u001b[40m\u001b[34m3\u001b[0m\u001b[40m\u001b[33m1\u001b[0m\u001b[40m\u001b[32m4\u001b[0m\u001b[40m\u001b[35m5\u001b[0m\u001b[40m\u001b[36m6\u001b[0m\u001b[40m\u001b[31m2\u001b[0m\u001b[40m\u001b[34m3\u001b[0m\u001b[40m\u001b[33m1\u001b[0m\u001b[40m\u001b[32m4\u001b[0m\u001b[40m\u001b[35m5\u001b[0m\u001b[40m\u001b[31m2\u001b[0m\u001b[40m\u001b[36m6\u001b[0m\u001b[40m\u001b[34m3\u001b[0m\u001b[40m\u001b[33m1\u001b[0m\u001b[40m\u001b[32m4\u001b[0m\u001b[40m\u001b[35m5\u001b[0m\u001b[40m\u001b[31m2\u001b[0m\u001b[40m\u001b[34m3\u001b[0m\u001b[40m\u001b[36m6\u001b[0m\u001b[40m\u001b[33m1\u001b[0m\u001b[40m\u001b[32m4\u001b[0m\u001b[40m\u001b[35m5\u001b[0m\u001b[40m\u001b[31m2\u001b[0m\u001b[40m\u001b[34m3\u001b[0m\u001b[40m\u001b[33m1\u001b[0m\u001b[40m\u001b[36m6\u001b[0m\u001b[40m\u001b[32m4\u001b[0m\u001b[40m\u001b[35m5\u001b[0m\u001b[40m\u001b[31m2\u001b[0m\u001b[40m\u001b[34m3\u001b[0m\u001b[40m\u001b[33m1\u001b[0m\u001b[40m\u001b[32m4\u001b[0m\u001b[40m\u001b[36m6\u001b[0m\u001b[40m\u001b[35m5\u001b[0m\u001b[40m\u001b[31m2\u001b[0m\u001b[40m\u001b[34m3\u001b[0m\u001b[40m\u001b[33m1\u001b[0m\u001b[40m\u001b[32m4\u001b[0m\u001b[40m\u001b[31m2\u001b[0m\u001b[40m\u001b[35m5\u001b[0m\u001b[40m\u001b[36m6\u001b[0m\u001b[40m\u001b[34m3\u001b[0m\u001b[40m\u001b[33m1\u001b[0m\u001b[40m\u001b[32m4\u001b[0m\u001b[40m\u001b[31m2\u001b[0m\u001b[40m\u001b[35m5\u001b[0m\u001b[40m\u001b[34m3\u001b[0m\u001b[40m\u001b[36m6\u001b[0m\u001b[40m\u001b[33m1\u001b[0m\u001b[40m\u001b[32m4\u001b[0m\u001b[40m\u001b[31m2\u001b[0m\u001b[40m\u001b[35m5\u001b[0m\u001b[40m\u001b[34m3\u001b[0m\u001b[40m\u001b[33m1\u001b[0m\u001b[40m\u001b[36m6\u001b[0m\u001b[40m\u001b[32m4\u001b[0m\u001b[40m\u001b[31m2\u001b[0m\u001b[40m\u001b[35m5\u001b[0m\u001b[40m\u001b[34m3\u001b[0m\u001b[40m\u001b[33m1\u001b[0m\u001b[40m\u001b[32m4\u001b[0m\u001b[40m\u001b[36m6\u001b[0m\u001b[40m\u001b[31m2\u001b[0m\u001b[40m\u001b[35m5\u001b[0m\u001b[40m\u001b[34m3\u001b[0m\u001b[40m\u001b[33m1\u001b[0m\u001b[40m\u001b[32m4\u001b[0m\u001b[40m\u001b[31m2\u001b[0m\u001b[40m\u001b[36m6\u001b[0m\u001b[40m\u001b[35m5\u001b[0m\u001b[40m\u001b[34m3\u001b[0m\u001b[40m\u001b[33m1\u001b[0m\u001b[40m\u001b[32m4\u001b[0m\u001b[40m\u001b[31m2\u001b[0m\u001b[40m\u001b[34m3\u001b[0m\u001b[40m\u001b[35m5\u001b[0m\u001b[40m\u001b[36m6\u001b[0m\u001b[40m\u001b[33m1\u001b[0m\u001b[40m\u001b[32m4\u001b[0m\u001b[40m\u001b[31m2\u001b[0m\u001b[40m\u001b[34m3\u001b[0m\u001b[40m\u001b[35m5\u001b[0m\u001b[40m\u001b[33m1\u001b[0m\u001b[40m\u001b[36m6\u001b[0m\u001b[40m\u001b[32m4\u001b[0m\u001b[40m\u001b[31m2\u001b[0m\u001b[40m\u001b[34m3\u001b[0m\u001b[40m\u001b[35m5\u001b[0m\u001b[40m\u001b[33m1\u001b[0m\u001b[40m\u001b[32m4\u001b[0m\u001b[40m\u001b[36m6\u001b[0m\u001b[40m\u001b[31m2\u001b[0m\u001b[40m\u001b[34m3\u001b[0m\u001b[40m\u001b[35m5\u001b[0m\u001b[40m\u001b[33m1\u001b[0m\u001b[40m\u001b[32m4\u001b[0m\u001b[40m\u001b[31m2\u001b[0m\u001b[40m\u001b[36m6\u001b[0m\u001b[40m\u001b[34m3\u001b[0m\u001b[40m\u001b[35m5\u001b[0m\u001b[40m\u001b[33m1\u001b[0m\u001b[40m\u001b[32m4\u001b[0m\u001b[40m\u001b[31m2\u001b[0m\u001b[40m\u001b[34m3\u001b[0m\u001b[40m\u001b[36m6\u001b[0m\u001b[40m\u001b[35m5\u001b[0m\u001b[40m\u001b[33m1\u001b[0m\u001b[40m\u001b[32m4\u001b[0m\u001b[40m\u001b[31m2\u001b[0m\u001b[40m\u001b[34m3\u001b[0m\u001b[40m\u001b[33m1\u001b[0m\u001b[40m\u001b[35m5\u001b[0m\u001b[40m\u001b[36m6\u001b[0m\u001b[40m\u001b[32m4\u001b[0m\u001b[40m\u001b[31m2\u001b[0m\u001b[40m\u001b[34m3\u001b[0m\u001b[40m\u001b[33m1\u001b[0m\u001b[40m\u001b[35m5\u001b[0m\u001b[40m\u001b[32m4\u001b[0m\u001b[40m\u001b[36m6\u001b[0m\u001b[40m\u001b[31m2\u001b[0m\u001b[40m\u001b[34m3\u001b[0m\u001b[40m\u001b[33m1\u001b[0m\u001b[40m\u001b[35m5\u001b[0m\u001b[40m\u001b[32m4\u001b[0m\u001b[40m\u001b[31m2\u001b[0m\u001b[40m\u001b[36m6\u001b[0m\u001b[40m\u001b[34m3\u001b[0m\u001b[40m\u001b[33m1\u001b[0m\u001b[40m\u001b[35m5\u001b[0m\u001b[40m\u001b[32m4\u001b[0m\u001b[40m\u001b[31m2\u001b[0m\u001b[40m\u001b[34m3\u001b[0m\u001b[40m\u001b[36m6\u001b[0m\u001b[40m\u001b[33m1\u001b[0m\u001b[40m\u001b[35m5\u001b[0m\u001b[40m\u001b[32m4\u001b[0m\u001b[40m\u001b[31m2\u001b[0m\u001b[40m\u001b[34m3\u001b[0m\u001b[40m\u001b[33m1\u001b[0m\u001b[40m\u001b[36m6\u001b[0m\u001b[40m\u001b[35m5\u001b[0m\u001b[40m\u001b[32m4\u001b[0m\u001b[40m\u001b[31m2\u001b[0m\u001b[40m\u001b[34m3\u001b[0m\u001b[40m\u001b[33m1\u001b[0m\u001b[40m\u001b[31m2\u001b[0m\u001b[40m\u001b[32m4\u001b[0m\u001b[40m\u001b[35m5\u001b[0m\u001b[40m\u001b[36m6\u001b[0m\u001b[40m\u001b[34m3\u001b[0m\u001b[40m\u001b[33m1\u001b[0m\u001b[40m\u001b[31m2\u001b[0m\u001b[40m\u001b[32m4\u001b[0m\u001b[40m\u001b[35m5\u001b[0m\u001b[40m\u001b[34m3\u001b[0m\u001b[40m\u001b[36m6\u001b[0m\u001b[40m\u001b[33m1\u001b[0m\u001b[40m\u001b[31m2\u001b[0m\u001b[40m\u001b[32m4\u001b[0m\u001b[40m\u001b[35m5\u001b[0m\u001b[40m\u001b[34m3\u001b[0m\u001b[40m\u001b[33m1\u001b[0m\u001b[40m\u001b[36m6\u001b[0m\u001b[40m\u001b[31m2\u001b[0m\u001b[40m\u001b[32m4\u001b[0m\u001b[40m\u001b[35m5\u001b[0m\u001b[40m\u001b[34m3\u001b[0m\u001b[40m\u001b[33m1\u001b[0m\u001b[40m\u001b[31m2\u001b[0m\u001b[40m\u001b[36m6\u001b[0m\u001b[40m\u001b[32m4\u001b[0m\u001b[40m\u001b[35m5\u001b[0m\u001b[40m\u001b[34m3\u001b[0m\u001b[40m\u001b[33m1\u001b[0m\u001b[40m\u001b[31m2\u001b[0m\u001b[40m\u001b[32m4\u001b[0m\u001b[40m\u001b[36m6\u001b[0m\u001b[40m\u001b[35m5\u001b[0m\u001b[40m\u001b[34m3\u001b[0m\u001b[40m\u001b[33m1\u001b[0m\u001b[40m\u001b[31m2\u001b[0m\u001b[40m\u001b[32m4\u001b[0m\u001b[40m\u001b[34m3\u001b[0m\u001b[40m\u001b[35m5\u001b[0m\u001b[40m\u001b[36m6\u001b[0m\u001b[40m\u001b[33m1\u001b[0m\u001b[40m\u001b[31m2\u001b[0m\u001b[40m\u001b[32m4\u001b[0m\u001b[40m\u001b[34m3\u001b[0m\u001b[40m\u001b[35m5\u001b[0m\u001b[40m\u001b[33m1\u001b[0m\u001b[40m\u001b[36m6\u001b[0m\u001b[40m\u001b[31m2\u001b[0m\u001b[40m\u001b[32m4\u001b[0m\u001b[40m\u001b[34m3\u001b[0m\u001b[40m\u001b[35m5\u001b[0m\u001b[40m\u001b[33m1\u001b[0m\u001b[40m\u001b[31m2\u001b[0m\u001b[40m\u001b[36m6\u001b[0m\u001b[40m\u001b[32m4\u001b[0m\u001b[40m\u001b[34m3\u001b[0m\u001b[40m\u001b[35m5\u001b[0m\u001b[40m\u001b[33m1\u001b[0m\u001b[40m\u001b[31m2\u001b[0m\u001b[40m\u001b[32m4\u001b[0m\u001b[40m\u001b[36m6\u001b[0m\u001b[40m\u001b[34m3\u001b[0m\u001b[40m\u001b[35m5\u001b[0m\u001b[40m\u001b[33m1\u001b[0m\u001b[40m\u001b[31m2\u001b[0m\u001b[40m\u001b[32m4\u001b[0m\u001b[40m\u001b[34m3\u001b[0m\u001b[40m\u001b[36m6\u001b[0m\u001b[40m\u001b[35m5\u001b[0m\u001b[40m\u001b[33m1\u001b[0m\u001b[40m\u001b[31m2\u001b[0m\u001b[40m\u001b[32m4\u001b[0m\u001b[40m\u001b[34m3\u001b[0m\u001b[40m\u001b[33m1\u001b[0m\u001b[40m\u001b[35m5\u001b[0m\u001b[40m\u001b[36m6\u001b[0m\u001b[40m\u001b[31m2\u001b[0m\u001b[40m\u001b[32m4\u001b[0m\u001b[40m\u001b[34m3\u001b[0m\u001b[40m\u001b[33m1\u001b[0m\u001b[40m\u001b[35m5\u001b[0m\u001b[40m\u001b[31m2\u001b[0m\u001b[40m\u001b[36m6\u001b[0m\u001b[40m\u001b[32m4\u001b[0m\u001b[40m\u001b[34m3\u001b[0m\u001b[40m\u001b[33m1\u001b[0m\u001b[40m\u001b[35m5\u001b[0m\u001b[40m\u001b[31m2\u001b[0m\u001b[40m\u001b[32m4\u001b[0m\u001b[40m\u001b[36m6\u001b[0m\u001b[40m\u001b[34m3\u001b[0m\u001b[40m\u001b[33m1\u001b[0m\u001b[40m\u001b[35m5\u001b[0m\u001b[40m\u001b[31m2\u001b[0m\u001b[40m\u001b[32m4\u001b[0m\u001b[40m\u001b[34m3\u001b[0m\u001b[40m\u001b[36m6\u001b[0m\u001b[40m\u001b[33m1\u001b[0m\u001b[40m\u001b[35m5\u001b[0m\u001b[40m\u001b[31m2\u001b[0m\u001b[40m\u001b[32m4\u001b[0m\u001b[40m\u001b[34m3\u001b[0m\u001b[40m\u001b[33m1\u001b[0m\u001b[40m\u001b[36m6\u001b[0m\u001b[40m\u001b[35m5\u001b[0m\u001b[40m\u001b[31m2\u001b[0m\u001b[40m\u001b[32m4\u001b[0m\u001b[40m\u001b[34m3\u001b[0m\u001b[40m\u001b[33m1\u001b[0m\u001b[40m\u001b[31m2\u001b[0m\u001b[40m\u001b[35m5\u001b[0m\u001b[40m\u001b[36m6\u001b[0m\u001b[40m\u001b[32m4\u001b[0m\u001b[40m\u001b[34m3\u001b[0m\u001b[40m\u001b[33m1\u001b[0m\u001b[40m\u001b[31m2\u001b[0m\u001b[40m\u001b[35m5\u001b[0m\u001b[40m\u001b[32m4\u001b[0m\u001b[40m\u001b[36m6\u001b[0m\u001b[40m\u001b[34m3\u001b[0m\u001b[40m\u001b[33m1\u001b[0m\u001b[40m\u001b[31m2\u001b[0m\u001b[40m\u001b[35m5\u001b[0m\u001b[40m\u001b[32m4\u001b[0m\u001b[40m\u001b[34m3\u001b[0m\u001b[40m\u001b[36m6\u001b[0m\u001b[40m\u001b[33m1\u001b[0m\u001b[40m\u001b[31m2\u001b[0m\u001b[40m\u001b[35m5\u001b[0m\u001b[40m\u001b[32m4\u001b[0m\u001b[40m\u001b[34m3\u001b[0m\u001b[40m\u001b[33m1\u001b[0m\u001b[40m\u001b[36m6\u001b[0m\u001b[40m\u001b[31m2\u001b[0m\u001b[40m\u001b[35m5\u001b[0m\u001b[40m\u001b[32m4\u001b[0m\u001b[40m\u001b[34m3\u001b[0m\u001b[40m\u001b[33m1\u001b[0m\u001b[40m\u001b[31m2\u001b[0m\u001b[40m\u001b[36m6\u001b[0m\u001b[40m\u001b[35m5\u001b[0m\u001b[40m\u001b[32m4\u001b[0m\u001b[40m\u001b[34m3\u001b[0m\u001b[40m\u001b[33m1\u001b[0m\u001b[40m\u001b[31m2\u001b[0m\u001b[40m\u001b[33m1\u001b[0m\u001b[40m\u001b[34m3\u001b[0m\u001b[40m\u001b[32m4\u001b[0m\u001b[40m\u001b[35m5\u001b[0m\u001b[40m\u001b[36m6\u001b[0m\u001b[40m\u001b[31m2\u001b[0m\u001b[40m\u001b[33m1\u001b[0m\u001b[40m\u001b[34m3\u001b[0m\u001b[40m\u001b[32m4\u001b[0m\u001b[40m\u001b[35m5\u001b[0m\u001b[40m\u001b[31m2\u001b[0m\u001b[40m\u001b[36m6\u001b[0m\u001b[40m\u001b[33m1\u001b[0m\u001b[40m\u001b[34m3\u001b[0m\u001b[40m\u001b[32m4\u001b[0m\u001b[40m\u001b[35m5\u001b[0m\u001b[40m\u001b[31m2\u001b[0m\u001b[40m\u001b[33m1\u001b[0m\u001b[40m\u001b[36m6\u001b[0m\u001b[40m\u001b[34m3\u001b[0m\u001b[40m\u001b[32m4\u001b[0m\u001b[40m\u001b[35m5\u001b[0m\u001b[40m\u001b[31m2\u001b[0m\u001b[40m\u001b[33m1\u001b[0m\u001b[40m\u001b[34m3\u001b[0m\u001b[40m\u001b[36m6\u001b[0m\u001b[40m\u001b[32m4\u001b[0m\u001b[40m\u001b[35m5\u001b[0m\u001b[40m\u001b[31m2\u001b[0m\u001b[40m\u001b[33m1\u001b[0m\u001b[40m\u001b[34m3\u001b[0m\u001b[40m\u001b[32m4\u001b[0m\u001b[40m\u001b[36m6\u001b[0m\u001b[40m\u001b[35m5\u001b[0m\u001b[40m\u001b[31m2\u001b[0m\u001b[40m\u001b[33m1\u001b[0m\u001b[40m\u001b[34m3\u001b[0m\u001b[40m\u001b[32m4\u001b[0m\u001b[40m\u001b[31m2\u001b[0m\u001b[40m\u001b[35m5\u001b[0m\u001b[40m\u001b[36m6\u001b[0m\u001b[40m\u001b[33m1\u001b[0m\u001b[40m\u001b[34m3\u001b[0m\u001b[40m\u001b[32m4\u001b[0m\u001b[40m\u001b[31m2\u001b[0m\u001b[40m\u001b[35m5\u001b[0m\u001b[40m\u001b[33m1\u001b[0m\u001b[40m\u001b[36m6\u001b[0m\u001b[40m\u001b[34m3\u001b[0m\u001b[40m\u001b[32m4\u001b[0m\u001b[40m\u001b[31m2\u001b[0m\u001b[40m\u001b[35m5\u001b[0m\u001b[40m\u001b[33m1\u001b[0m\u001b[40m\u001b[34m3\u001b[0m\u001b[40m\u001b[36m6\u001b[0m\u001b[40m\u001b[32m4\u001b[0m\u001b[40m\u001b[31m2\u001b[0m\u001b[40m\u001b[35m5\u001b[0m\u001b[40m\u001b[33m1\u001b[0m\u001b[40m\u001b[34m3\u001b[0m\u001b[40m\u001b[32m4\u001b[0m\u001b[40m\u001b[36m6\u001b[0m\u001b[40m\u001b[31m2\u001b[0m\u001b[40m\u001b[35m5\u001b[0m\u001b[40m\u001b[33m1\u001b[0m\u001b[40m\u001b[34m3\u001b[0m\u001b[40m\u001b[32m4\u001b[0m\u001b[40m\u001b[31m2\u001b[0m\u001b[40m\u001b[36m6\u001b[0m\u001b[40m\u001b[35m5\u001b[0m\u001b[40m\u001b[33m1\u001b[0m\u001b[40m\u001b[34m3\u001b[0m\u001b[40m\u001b[32m4\u001b[0m\u001b[40m\u001b[31m2\u001b[0m\u001b[40m\u001b[33m1\u001b[0m\u001b[40m\u001b[35m5\u001b[0m\u001b[40m\u001b[36m6\u001b[0m\u001b[40m\u001b[34m3\u001b[0m\u001b[40m\u001b[32m4\u001b[0m\u001b[40m\u001b[31m2\u001b[0m\u001b[40m\u001b[33m1\u001b[0m\u001b[40m\u001b[35m5\u001b[0m\u001b[40m\u001b[34m3\u001b[0m\u001b[40m\u001b[36m6\u001b[0m\u001b[40m\u001b[32m4\u001b[0m\u001b[40m\u001b[31m2\u001b[0m\u001b[40m\u001b[33m1\u001b[0m\u001b[40m\u001b[35m5\u001b[0m\u001b[40m\u001b[34m3\u001b[0m\u001b[40m\u001b[32m4\u001b[0m\u001b[40m\u001b[36m6\u001b[0m\u001b[40m\u001b[31m2\u001b[0m\u001b[40m\u001b[33m1\u001b[0m\u001b[40m\u001b[35m5\u001b[0m\u001b[40m\u001b[34m3\u001b[0m\u001b[40m\u001b[32m4\u001b[0m\u001b[40m\u001b[31m2\u001b[0m\u001b[40m\u001b[36m6\u001b[0m\u001b[40m\u001b[33m1\u001b[0m\u001b[40m\u001b[35m5\u001b[0m\u001b[40m\u001b[34m3\u001b[0m\u001b[40m\u001b[32m4\u001b[0m\u001b[40m\u001b[31m2\u001b[0m\u001b[40m\u001b[33m1\u001b[0m\u001b[40m\u001b[36m6\u001b[0m\u001b[40m\u001b[35m5\u001b[0m\u001b[40m\u001b[34m3\u001b[0m\u001b[40m\u001b[32m4\u001b[0m\u001b[40m\u001b[31m2\u001b[0m\u001b[40m\u001b[33m1\u001b[0m\u001b[40m\u001b[34m3\u001b[0m\u001b[40m\u001b[35m5\u001b[0m\u001b[40m\u001b[36m6\u001b[0m\u001b[40m\u001b[32m4\u001b[0m\u001b[40m\u001b[31m2\u001b[0m\u001b[40m\u001b[33m1\u001b[0m\u001b[40m\u001b[34m3\u001b[0m\u001b[40m\u001b[35m5\u001b[0m\u001b[40m\u001b[32m4\u001b[0m\u001b[40m\u001b[36m6\u001b[0m\u001b[40m\u001b[31m2\u001b[0m\u001b[40m\u001b[33m1\u001b[0m\u001b[40m\u001b[34m3\u001b[0m\u001b[40m\u001b[35m5\u001b[0m\u001b[40m\u001b[32m4\u001b[0m\u001b[40m\u001b[31m2\u001b[0m\u001b[40m\u001b[36m6\u001b[0m\u001b[40m\u001b[33m1\u001b[0m\u001b[40m\u001b[34m3\u001b[0m\u001b[40m\u001b[35m5\u001b[0m\u001b[40m\u001b[32m4\u001b[0m\u001b[40m\u001b[31m2\u001b[0m\u001b[40m\u001b[33m1\u001b[0m\u001b[40m\u001b[36m6\u001b[0m\u001b[40m\u001b[34m3\u001b[0m\u001b[40m\u001b[35m5\u001b[0m\u001b[40m\u001b[32m4\u001b[0m\u001b[40m\u001b[31m2\u001b[0m\u001b[40m\u001b[33m1\u001b[0m\u001b[40m\u001b[34m3\u001b[0m\u001b[40m\u001b[36m6\u001b[0m\u001b[40m\u001b[35m5\u001b[0m\u001b[40m\u001b[32m4\u001b[0m\u001b[40m\u001b[31m2\u001b[0m\u001b[40m\u001b[33m1\u001b[0m\u001b[40m\u001b[34m3\u001b[0m\u001b[40m\u001b[31m2\u001b[0m\u001b[40m\u001b[32m4\u001b[0m\u001b[40m\u001b[35m5\u001b[0m\u001b[40m\u001b[36m6\u001b[0m\u001b[40m\u001b[33m1\u001b[0m\u001b[40m\u001b[34m3\u001b[0m\u001b[40m\u001b[31m2\u001b[0m\u001b[40m\u001b[32m4\u001b[0m\u001b[40m\u001b[35m5\u001b[0m\u001b[40m\u001b[33m1\u001b[0m\u001b[40m\u001b[36m6\u001b[0m\u001b[40m\u001b[34m3\u001b[0m\u001b[40m\u001b[31m2\u001b[0m\u001b[40m\u001b[32m4\u001b[0m\u001b[40m\u001b[35m5\u001b[0m\u001b[40m\u001b[33m1\u001b[0m\u001b[40m\u001b[34m3\u001b[0m\u001b[40m\u001b[36m6\u001b[0m\u001b[40m\u001b[31m2\u001b[0m\u001b[40m\u001b[32m4\u001b[0m\u001b[40m\u001b[35m5\u001b[0m\u001b[40m\u001b[33m1\u001b[0m\u001b[40m\u001b[34m3\u001b[0m\u001b[40m\u001b[31m2\u001b[0m\u001b[40m\u001b[36m6\u001b[0m\u001b[40m\u001b[32m4\u001b[0m\u001b[40m\u001b[35m5\u001b[0m\u001b[40m\u001b[33m1\u001b[0m\u001b[40m\u001b[34m3\u001b[0m\u001b[40m\u001b[31m2\u001b[0m\u001b[40m\u001b[32m4\u001b[0m\u001b[40m\u001b[36m6\u001b[0m\u001b[40m\u001b[35m5\u001b[0m\u001b[40m\u001b[33m1\u001b[0m\u001b[40m\u001b[34m3\u001b[0m\u001b[40m\u001b[31m2\u001b[0m\u001b[40m\u001b[32m4\u001b[0m\u001b[40m\u001b[33m1\u001b[0m\u001b[40m\u001b[35m5\u001b[0m\u001b[40m\u001b[36m6\u001b[0m\u001b[40m\u001b[34m3\u001b[0m\u001b[40m\u001b[31m2\u001b[0m\u001b[40m\u001b[32m4\u001b[0m\u001b[40m\u001b[33m1\u001b[0m\u001b[40m\u001b[35m5\u001b[0m\u001b[40m\u001b[34m3\u001b[0m\u001b[40m\u001b[36m6\u001b[0m\u001b[40m\u001b[31m2\u001b[0m\u001b[40m\u001b[32m4\u001b[0m\u001b[40m\u001b[33m1\u001b[0m\u001b[40m\u001b[35m5\u001b[0m\u001b[40m\u001b[34m3\u001b[0m\u001b[40m\u001b[31m2\u001b[0m\u001b[40m\u001b[36m6\u001b[0m\u001b[40m\u001b[32m4\u001b[0m\u001b[40m\u001b[33m1\u001b[0m\u001b[40m\u001b[35m5\u001b[0m\u001b[40m\u001b[34m3\u001b[0m\u001b[40m\u001b[31m2\u001b[0m\u001b[40m\u001b[32m4\u001b[0m\u001b[40m\u001b[36m6\u001b[0m\u001b[40m\u001b[33m1\u001b[0m\u001b[40m\u001b[35m5\u001b[0m\u001b[40m\u001b[34m3\u001b[0m\u001b[40m\u001b[31m2\u001b[0m\u001b[40m\u001b[32m4\u001b[0m\u001b[40m\u001b[33m1\u001b[0m\u001b[40m\u001b[36m6\u001b[0m\u001b[40m\u001b[35m5\u001b[0m\u001b[40m\u001b[34m3\u001b[0m\u001b[40m\u001b[31m2\u001b[0m\u001b[40m\u001b[32m4\u001b[0m\u001b[40m\u001b[33m1\u001b[0m\u001b[40m\u001b[34m3\u001b[0m\u001b[40m\u001b[35m5\u001b[0m\u001b[40m\u001b[36m6\u001b[0m\u001b[40m\u001b[31m2\u001b[0m\u001b[40m\u001b[32m4\u001b[0m\u001b[40m\u001b[33m1\u001b[0m\u001b[40m\u001b[34m3\u001b[0m\u001b[40m\u001b[35m5\u001b[0m\u001b[40m\u001b[31m2\u001b[0m\u001b[40m\u001b[36m6\u001b[0m\u001b[40m\u001b[32m4\u001b[0m\u001b[40m\u001b[33m1\u001b[0m\u001b[40m\u001b[34m3\u001b[0m\u001b[40m\u001b[35m5\u001b[0m\u001b[40m\u001b[31m2\u001b[0m\u001b[40m\u001b[32m4\u001b[0m\u001b[40m\u001b[36m6\u001b[0m\u001b[40m\u001b[33m1\u001b[0m\u001b[40m\u001b[34m3\u001b[0m\u001b[40m\u001b[35m5\u001b[0m\u001b[40m\u001b[31m2\u001b[0m\u001b[40m\u001b[32m4\u001b[0m\u001b[40m\u001b[33m1\u001b[0m\u001b[40m\u001b[36m6\u001b[0m\u001b[40m\u001b[34m3\u001b[0m\u001b[40m\u001b[35m5\u001b[0m\u001b[40m\u001b[31m2\u001b[0m\u001b[40m\u001b[32m4\u001b[0m\u001b[40m\u001b[33m1\u001b[0m\u001b[40m\u001b[34m3\u001b[0m\u001b[40m\u001b[36m6\u001b[0m\u001b[40m\u001b[35m5\u001b[0m\u001b[40m\u001b[31m2\u001b[0m\u001b[40m\u001b[32m4\u001b[0m\u001b[40m\u001b[33m1\u001b[0m\u001b[40m\u001b[34m3\u001b[0m\u001b[40m\u001b[31m2\u001b[0m\u001b[40m\u001b[35m5\u001b[0m\u001b[40m\u001b[36m6\u001b[0m\u001b[40m\u001b[32m4\u001b[0m\u001b[40m\u001b[33m1\u001b[0m\u001b[40m\u001b[34m3\u001b[0m\u001b[40m\u001b[31m2\u001b[0m\u001b[40m\u001b[35m5\u001b[0m\u001b[40m\u001b[32m4\u001b[0m\u001b[40m\u001b[36m6\u001b[0m\u001b[40m\u001b[33m1\u001b[0m\u001b[40m\u001b[34m3\u001b[0m\u001b[40m\u001b[31m2\u001b[0m\u001b[40m\u001b[35m5\u001b[0m\u001b[40m\u001b[32m4\u001b[0m\u001b[40m\u001b[33m1\u001b[0m\u001b[40m\u001b[36m6\u001b[0m\u001b[40m\u001b[34m3\u001b[0m\u001b[40m\u001b[31m2\u001b[0m\u001b[40m\u001b[35m5\u001b[0m\u001b[40m\u001b[32m4\u001b[0m\u001b[40m\u001b[33m1\u001b[0m\u001b[40m\u001b[34m3\u001b[0m\u001b[40m\u001b[36m6\u001b[0m\u001b[40m\u001b[31m2\u001b[0m\u001b[40m\u001b[35m5\u001b[0m\u001b[40m\u001b[32m4\u001b[0m\u001b[40m\u001b[33m1\u001b[0m\u001b[40m\u001b[34m3\u001b[0m\u001b[40m\u001b[31m2\u001b[0m\u001b[40m\u001b[36m6\u001b[0m\u001b[40m\u001b[35m5\u001b[0m\u001b[40m\u001b[32m4\u001b[0m\u001b[40m\u001b[33m1\u001b[0m\u001b[40m\u001b[34m3\u001b[0m\u001b[40m\u001b[31m2\u001b[0m\u001b[40m\u001b[33m1\u001b[0m\u001b[40m\u001b[32m4\u001b[0m\u001b[40m\u001b[35m5\u001b[0m\u001b[40m\u001b[36m6\u001b[0m\u001b[40m\u001b[34m3\u001b[0m\u001b[40m\u001b[31m2\u001b[0m\u001b[40m\u001b[33m1\u001b[0m\u001b[40m\u001b[32m4\u001b[0m\u001b[40m\u001b[35m5\u001b[0m\u001b[40m\u001b[34m3\u001b[0m\u001b[40m\u001b[36m6\u001b[0m\u001b[40m\u001b[31m2\u001b[0m\u001b[40m\u001b[33m1\u001b[0m\u001b[40m\u001b[32m4\u001b[0m\u001b[40m\u001b[35m5\u001b[0m\u001b[40m\u001b[34m3\u001b[0m\u001b[40m\u001b[31m2\u001b[0m\u001b[40m\u001b[36m6\u001b[0m\u001b[40m\u001b[33m1\u001b[0m\u001b[40m\u001b[32m4\u001b[0m\u001b[40m\u001b[35m5\u001b[0m\u001b[40m\u001b[34m3\u001b[0m\u001b[40m\u001b[31m2\u001b[0m\u001b[40m\u001b[33m1\u001b[0m\u001b[40m\u001b[36m6\u001b[0m\u001b[40m\u001b[32m4\u001b[0m\u001b[40m\u001b[35m5\u001b[0m\u001b[40m\u001b[34m3\u001b[0m\u001b[40m\u001b[31m2\u001b[0m\u001b[40m\u001b[33m1\u001b[0m\u001b[40m\u001b[32m4\u001b[0m\u001b[40m\u001b[36m6\u001b[0m\u001b[40m\u001b[35m5\u001b[0m\u001b[40m\u001b[34m3\u001b[0m\u001b[40m\u001b[31m2\u001b[0m\u001b[40m\u001b[33m1\u001b[0m\u001b[40m\u001b[32m4\u001b[0m\u001b[40m\u001b[34m3\u001b[0m\u001b[40m\u001b[35m5\u001b[0m\u001b[40m\u001b[36m6\u001b[0m\u001b[40m\u001b[31m2\u001b[0m\u001b[40m\u001b[33m1\u001b[0m\u001b[40m\u001b[32m4\u001b[0m\u001b[40m\u001b[34m3\u001b[0m\u001b[40m\u001b[35m5\u001b[0m\u001b[40m\u001b[31m2\u001b[0m\u001b[40m\u001b[36m6\u001b[0m\u001b[40m\u001b[33m1\u001b[0m\u001b[40m\u001b[32m4\u001b[0m\u001b[40m\u001b[34m3\u001b[0m\u001b[40m\u001b[35m5\u001b[0m\u001b[40m\u001b[31m2\u001b[0m\u001b[40m\u001b[33m1\u001b[0m\u001b[40m\u001b[36m6\u001b[0m\u001b[40m\u001b[32m4\u001b[0m\u001b[40m\u001b[34m3\u001b[0m\u001b[40m\u001b[35m5\u001b[0m\u001b[40m\u001b[31m2\u001b[0m\u001b[40m\u001b[33m1\u001b[0m\u001b[40m\u001b[32m4\u001b[0m\u001b[40m\u001b[36m6\u001b[0m\u001b[40m\u001b[34m3\u001b[0m\u001b[40m\u001b[35m5\u001b[0m\u001b[40m\u001b[31m2\u001b[0m\u001b[40m\u001b[33m1\u001b[0m\u001b[40m\u001b[32m4\u001b[0m\u001b[40m\u001b[34m3\u001b[0m\u001b[40m\u001b[36m6\u001b[0m\u001b[40m\u001b[35m5\u001b[0m\u001b[40m\u001b[31m2\u001b[0m\u001b[40m\u001b[33m1\u001b[0m\u001b[40m\u001b[32m4\u001b[0m\u001b[40m\u001b[34m3\u001b[0m\u001b[40m\u001b[31m2\u001b[0m\u001b[40m\u001b[35m5\u001b[0m\u001b[40m\u001b[36m6\u001b[0m\u001b[40m\u001b[33m1\u001b[0m\u001b[40m\u001b[32m4\u001b[0m\u001b[40m\u001b[34m3\u001b[0m\u001b[40m\u001b[31m2\u001b[0m\u001b[40m\u001b[35m5\u001b[0m\u001b[40m\u001b[33m1\u001b[0m\u001b[40m\u001b[36m6\u001b[0m\u001b[40m\u001b[32m4\u001b[0m\u001b[40m\u001b[34m3\u001b[0m\u001b[40m\u001b[31m2\u001b[0m\u001b[40m\u001b[35m5\u001b[0m\u001b[40m\u001b[33m1\u001b[0m\u001b[40m\u001b[32m4\u001b[0m\u001b[40m\u001b[36m6\u001b[0m\u001b[40m\u001b[34m3\u001b[0m\u001b[40m\u001b[31m2\u001b[0m\u001b[40m\u001b[35m5\u001b[0m\u001b[40m\u001b[33m1\u001b[0m\u001b[40m\u001b[32m4\u001b[0m\u001b[40m\u001b[34m3\u001b[0m\u001b[40m\u001b[36m6\u001b[0m\u001b[40m\u001b[31m2\u001b[0m\u001b[40m\u001b[35m5\u001b[0m\u001b[40m\u001b[33m1\u001b[0m\u001b[40m\u001b[32m4\u001b[0m\u001b[40m\u001b[34m3\u001b[0m\u001b[40m\u001b[31m2\u001b[0m\u001b[40m\u001b[36m6\u001b[0m\u001b[40m\u001b[35m5\u001b[0m\u001b[40m\u001b[33m1\u001b[0m\u001b[40m\u001b[32m4\u001b[0m\u001b[40m\u001b[34m3\u001b[0m\u001b[40m\u001b[31m2\u001b[0m\u001b[40m\u001b[33m1\u001b[0m\u001b[40m\u001b[35m5\u001b[0m\u001b[40m\u001b[36m6\u001b[0m\u001b[40m\u001b[32m4\u001b[0m\u001b[40m\u001b[34m3\u001b[0m\u001b[40m\u001b[31m2\u001b[0m\u001b[40m\u001b[33m1\u001b[0m\u001b[40m\u001b[35m5\u001b[0m\u001b[40m\u001b[32m4\u001b[0m\u001b[40m\u001b[36m6\u001b[0m\u001b[40m\u001b[34m3\u001b[0m\u001b[40m\u001b[31m2\u001b[0m\u001b[40m\u001b[33m1\u001b[0m\u001b[40m\u001b[35m5\u001b[0m\u001b[40m\u001b[32m4\u001b[0m\u001b[40m\u001b[34m3\u001b[0m\u001b[40m\u001b[36m6\u001b[0m\u001b[40m\u001b[31m2\u001b[0m\u001b[40m\u001b[33m1\u001b[0m\u001b[40m\u001b[35m5\u001b[0m\u001b[40m\u001b[32m4\u001b[0m\u001b[40m\u001b[34m3\u001b[0m\u001b[40m\u001b[31m2\u001b[0m\u001b[40m\u001b[36m6\u001b[0m\u001b[40m\u001b[33m1\u001b[0m\u001b[40m\u001b[35m5\u001b[0m\u001b[40m\u001b[32m4\u001b[0m\u001b[40m\u001b[34m3\u001b[0m\u001b[40m\u001b[31m2\u001b[0m\u001b[40m\u001b[33m1\u001b[0m\u001b[40m\u001b[36m6\u001b[0m\u001b[40m\u001b[35m5\u001b[0m\u001b[40m\u001b[32m4\u001b[0m\u001b[40m\u001b[34m3\u001b[0m\u001b[40m\u001b[31m2\u001b[0m\u001b[40m\u001b[33m1\u001b[0m\n"
     ]
    }
   ],
   "source": [
    "sp_six = SuperPermutation(6, intList_to_string(recursive_solver(6)), colorCode)\n",
    "print(sp_six)"
   ]
  },
  {
   "cell_type": "markdown",
   "metadata": {},
   "source": [
    "873 is a lot of digits to take in, defintely annoying to analyze by hand. If we are going to explore this subject further and examine a more optimal solution it would be nice to have a function to check if a number is in fact a superpermutation."
   ]
  },
  {
   "cell_type": "code",
   "execution_count": 7,
   "metadata": {
    "collapsed": true
   },
   "outputs": [],
   "source": [
    "import itertools as it"
   ]
  },
  {
   "cell_type": "code",
   "execution_count": 33,
   "metadata": {},
   "outputs": [],
   "source": [
    "# sequence as int list\n",
    "def is_sp(sequence):\n",
    "    n = max(sequence)\n",
    "    sequence_str = intList_to_string(sequence)\n",
    "    sub_p = list(it.permutations(range(1, n + 1)))\n",
    "    sub_p_str = [intList_to_string(x) for x in sub_p]\n",
    "    for p in sub_p_str:\n",
    "        if p in sequence_str:\n",
    "            continue\n",
    "        else:\n",
    "            return False\n",
    "    return True"
   ]
  },
  {
   "cell_type": "markdown",
   "metadata": {},
   "source": [
    "The above function creates strings from all the permutations 1 to N for the highest value in the input list. It then iterates through these sub permutations and tests if they are in the input sequence. Let's test to see if our recursive solver and out tester are running correctly."
   ]
  },
  {
   "cell_type": "code",
   "execution_count": 35,
   "metadata": {},
   "outputs": [
    {
     "name": "stdout",
     "output_type": "stream",
     "text": [
      "False\n",
      "True\n",
      "True\n",
      "True\n",
      "True\n"
     ]
    }
   ],
   "source": [
    "print(is_sp([1, 2, 3, 1, 2, 1]))\n",
    "print(is_sp(recursive_solver(4)))\n",
    "print(is_sp(recursive_solver(5)))\n",
    "print(is_sp(recursive_solver(6)))\n",
    "print(is_sp(recursive_solver(7)))"
   ]
  },
  {
   "cell_type": "markdown",
   "metadata": {},
   "source": [
    "Everything is looking good. For finding smaller supermutations for N > 5 we need a different method than the recursive one. From the video Robin Houston demonstrates a creative method wich translates finding combinations of permutations into a graph search problem. The cleverness of this approach is it takes an unknown problem and translates it into one that is heavily researched, The Travelling Salesman Problem. Any path along the graph, in which each node is a permutation, and which traverses every node, is guaranteed to be a superpermutation. The problem is then is simply to find the shortest path."
   ]
  }
 ],
 "metadata": {
  "kernelspec": {
   "display_name": "Python 3",
   "language": "python",
   "name": "python3"
  },
  "language_info": {
   "codemirror_mode": {
    "name": "ipython",
    "version": 3
   },
   "file_extension": ".py",
   "mimetype": "text/x-python",
   "name": "python",
   "nbconvert_exporter": "python",
   "pygments_lexer": "ipython3",
   "version": "3.6.1"
  }
 },
 "nbformat": 4,
 "nbformat_minor": 2
}
